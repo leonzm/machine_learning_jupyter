{
 "cells": [
  {
   "cell_type": "markdown",
   "metadata": {
    "collapsed": true
   },
   "source": [
    "#### 感知器实现\n",
    "###### 参考：[GitHub hanbt learn_dl perceptron](https://github.com/hanbt/learn_dl/blob/master/perceptron.py)"
   ]
  },
  {
   "cell_type": "code",
   "execution_count": 6,
   "metadata": {
    "collapsed": true
   },
   "outputs": [],
   "source": [
    "class Perceptron(object):\n",
    "    \n",
    "    def __init__(self, input_num, activator):\n",
    "        '''\n",
    "        初始化感知器，设置输入参数的个数，以及激活函数。\n",
    "        激活函数的类型为double -> double\n",
    "        '''\n",
    "        self.activator = activator\n",
    "        # 权重向量初始化为0\n",
    "        self.weights = [0.0 for _ in range(input_num)]\n",
    "        # 偏置项初始化为0\n",
    "        self.bias = 0.0\n",
    "\n",
    "\n",
    "    def __str__(self):\n",
    "        '''\n",
    "        打印学习到的权重、偏置项\n",
    "        '''\n",
    "        return 'weights\\t:%s\\nbias\\t:%f\\n' % (self.weights, self.bias)\n",
    "\n",
    "\n",
    "    def predict(self, input_vec):\n",
    "        '''\n",
    "        输入向量，输出感知器的计算结果\n",
    "        '''\n",
    "        # 把input_vec[x1,x2,x3...]和weights[w1,w2,w3,...]打包在一起\n",
    "        # 变成[(x1,w1),(x2,w2),(x3,w3),...]\n",
    "        # 然后利用map函数计算[x1*w1, x2*w2, x3*w3]\n",
    "        # 最后利用reduce求和\n",
    "        return self.activator(\n",
    "            reduce(lambda a, b: a + b,\n",
    "                   map(lambda (x, w): x * w,  \n",
    "                       zip(input_vec, self.weights))\n",
    "                , 0.0) + self.bias)\n",
    "\n",
    "\n",
    "    def train(self, input_vecs, labels, iteration, rate):\n",
    "        '''\n",
    "        输入训练数据：一组向量、与每个向量对应的label；以及训练轮数、学习率\n",
    "        '''\n",
    "        for i in range(iteration):\n",
    "            self._one_iteration(input_vecs, labels, rate)\n",
    "\n",
    "\n",
    "    def _one_iteration(self, input_vecs, labels, rate):\n",
    "        '''\n",
    "        一次迭代，把所有的训练数据过一遍\n",
    "        '''\n",
    "        # 把输入和输出打包在一起，成为样本的列表[(input_vec, label), ...]\n",
    "        # 而每个训练样本是(input_vec, label)\n",
    "        samples = zip(input_vecs, labels)\n",
    "        # 对每个样本，按照感知器规则更新权重\n",
    "        for (input_vec, label) in samples:\n",
    "            # 计算感知器在当前权重下的输出\n",
    "            output = self.predict(input_vec)\n",
    "            # 更新权重\n",
    "            self._update_weights(input_vec, output, label, rate)\n",
    "\n",
    "\n",
    "    def _update_weights(self, input_vec, output, label, rate):\n",
    "        '''\n",
    "        按照感知器规则更新权重\n",
    "        '''\n",
    "        # 把input_vec[x1,x2,x3,...]和weights[w1,w2,w3,...]打包在一起\n",
    "        # 变成[(x1,w1),(x2,w2),(x3,w3),...]\n",
    "        # 然后利用感知器规则更新权重\n",
    "        delta = label - output\n",
    "        self.weights = map(\n",
    "            lambda (x, w): w + rate * delta * x,\n",
    "            zip(input_vec, self.weights))\n",
    "        # 更新bias\n",
    "        self.bias += rate * delta\n"
   ]
  },
  {
   "cell_type": "markdown",
   "metadata": {},
   "source": [
    "#### 使用感知器实现 And"
   ]
  },
  {
   "cell_type": "code",
   "execution_count": 2,
   "metadata": {},
   "outputs": [
    {
     "name": "stdout",
     "output_type": "stream",
     "text": [
      "weights\t:[0.1, 0.2]\n",
      "bias\t:-0.200000\n",
      "\n",
      "1 and 1 = 1\n",
      "0 and 0 = 0\n",
      "1 and 0 = 0\n",
      "0 and 1 = 0\n"
     ]
    }
   ],
   "source": [
    "def f(x):\n",
    "    '''\n",
    "    定义激活函数f\n",
    "    '''\n",
    "    return 1 if x > 0 else 0\n",
    "\n",
    "\n",
    "def get_training_dataset():\n",
    "    '''\n",
    "    基于and真值表构建训练数据\n",
    "    '''\n",
    "    # 构建训练数据\n",
    "    # 输入向量列表\n",
    "    input_vecs = [[1,1], [0,0], [1,0], [0,1]]\n",
    "    # 期望的输出列表，注意要与输入一一对应\n",
    "    # [1,1] -> 1, [0,0] -> 0, [1,0] -> 0, [0,1] -> 0\n",
    "    labels = [1, 0, 0, 0]\n",
    "    return input_vecs, labels\n",
    "\n",
    "\n",
    "def train_and_perceptron():\n",
    "    '''\n",
    "    使用and真值表训练感知器\n",
    "    '''\n",
    "    # 创建感知器，输入参数个数为2（因为and是二元函数），激活函数为f\n",
    "    p = Perceptron(2, f)\n",
    "    # 训练，迭代10轮, 学习速率为0.1\n",
    "    input_vecs, labels = get_training_dataset()\n",
    "    p.train(input_vecs, labels, 10, 0.1)\n",
    "    #返回训练好的感知器\n",
    "    return p\n",
    "\n",
    "\n",
    "if __name__ == '__main__': \n",
    "    # 训练and感知器\n",
    "    and_perception = train_and_perceptron()\n",
    "    # 打印训练获得的权重\n",
    "    print and_perception\n",
    "    # 测试\n",
    "    print '1 and 1 = %d' % and_perception.predict([1, 1])\n",
    "    print '0 and 0 = %d' % and_perception.predict([0, 0])\n",
    "    print '1 and 0 = %d' % and_perception.predict([1, 0])\n",
    "    print '0 and 1 = %d' % and_perception.predict([0, 1])\n"
   ]
  },
  {
   "cell_type": "markdown",
   "metadata": {
    "collapsed": true
   },
   "source": [
    "#### 使用感知器实现线性回归\n",
    "###### 参考：[GitHub hanbt learn_dl linear_unit](https://github.com/hanbt/learn_dl/blob/master/linear_unit.py)"
   ]
  },
  {
   "cell_type": "code",
   "execution_count": 7,
   "metadata": {},
   "outputs": [
    {
     "name": "stdout",
     "output_type": "stream",
     "text": [
      "weights\t:[1124.0634970262222]\n",
      "bias\t:85.485289\n",
      "\n",
      "Work 3.4 years, monthly salary = 3907.30\n",
      "Work 15 years, monthly salary = 16946.44\n",
      "Work 1.5 years, monthly salary = 1771.58\n",
      "Work 6.3 years, monthly salary = 7167.09\n"
     ]
    },
    {
     "data": {
      "image/png": "[encoded data removed]",
      "text/plain": [
       "<matplotlib.figure.Figure at 0x7fa9eff43110>"
      ]
     },
     "metadata": {},
     "output_type": "display_data"
    }
   ],
   "source": [
    "#定义激活函数f\n",
    "f = lambda x: x\n",
    "\n",
    "class LinearUnit(Perceptron):\n",
    "    def __init__(self, input_num):\n",
    "        '''初始化线性单元，设置输入参数的个数'''\n",
    "        Perceptron.__init__(self, input_num, f)\n",
    "\n",
    "\n",
    "def get_training_dataset():\n",
    "    '''\n",
    "    捏造5个人的收入数据\n",
    "    '''\n",
    "    # 构建训练数据\n",
    "    # 输入向量列表，每一项是工作年限\n",
    "    input_vecs = [[5], [3], [8], [1.4], [10.1]]\n",
    "    # 期望的输出列表，月薪，注意要与输入一一对应\n",
    "    labels = [5500, 2300, 7600, 1800, 11400]\n",
    "    return input_vecs, labels    \n",
    "\n",
    "\n",
    "def train_linear_unit():\n",
    "    '''\n",
    "    使用数据训练线性单元\n",
    "    '''\n",
    "    # 创建感知器，输入参数的特征数为1（工作年限）\n",
    "    lu = LinearUnit(1)\n",
    "    # 训练，迭代10轮, 学习速率为0.01\n",
    "    input_vecs, labels = get_training_dataset()\n",
    "    lu.train(input_vecs, labels, 10, 0.01)\n",
    "    #返回训练好的线性单元\n",
    "    return lu\n",
    "\n",
    "\n",
    "def plot(linear_unit):\n",
    "    import matplotlib.pyplot as plt\n",
    "    input_vecs, labels = get_training_dataset()\n",
    "    fig = plt.figure()\n",
    "    ax = fig.add_subplot(111)\n",
    "    ax.scatter(map(lambda x: x[0], input_vecs), labels)\n",
    "    weights = linear_unit.weights\n",
    "    bias = linear_unit.bias\n",
    "    x = range(0,12,1)\n",
    "    y = map(lambda x:weights[0] * x + bias, x)\n",
    "    ax.plot(x, y)\n",
    "    plt.show()\n",
    "\n",
    "\n",
    "if __name__ == '__main__': \n",
    "    '''训练线性单元'''\n",
    "    linear_unit = train_linear_unit()\n",
    "    # 打印训练获得的权重\n",
    "    print linear_unit\n",
    "    # 测试\n",
    "    print 'Work 3.4 years, monthly salary = %.2f' % linear_unit.predict([3.4])\n",
    "    print 'Work 15 years, monthly salary = %.2f' % linear_unit.predict([15])\n",
    "    print 'Work 1.5 years, monthly salary = %.2f' % linear_unit.predict([1.5])\n",
    "    print 'Work 6.3 years, monthly salary = %.2f' % linear_unit.predict([6.3])\n",
    "    plot(linear_unit)"
   ]
  },
  {
   "cell_type": "code",
   "execution_count": null,
   "metadata": {
    "collapsed": true
   },
   "outputs": [],
   "source": []
  },
  {
   "cell_type": "code",
   "execution_count": null,
   "metadata": {
    "collapsed": true
   },
   "outputs": [],
   "source": []
  },
  {
   "cell_type": "code",
   "execution_count": null,
   "metadata": {
    "collapsed": true
   },
   "outputs": [],
   "source": []
  }
 ],
 "metadata": {
  "kernelspec": {
   "display_name": "Python 2",
   "language": "python",
   "name": "python2"
  },
  "language_info": {
   "codemirror_mode": {
    "name": "ipython",
    "version": 2
   },
   "file_extension": ".py",
   "mimetype": "text/x-python",
   "name": "python",
   "nbconvert_exporter": "python",
   "pygments_lexer": "ipython2",
   "version": "2.7.13"
  }
 },
 "nbformat": 4,
 "nbformat_minor": 2
}
