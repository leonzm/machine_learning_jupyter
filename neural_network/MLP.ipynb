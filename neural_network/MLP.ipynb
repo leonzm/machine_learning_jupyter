{
 "cells": [
  {
   "cell_type": "markdown",
   "metadata": {},
   "source": [
    "## 样本预处理"
   ]
  },
  {
   "cell_type": "code",
   "execution_count": 22,
   "metadata": {},
   "outputs": [
    {
     "name": "stdout",
     "output_type": "stream",
     "text": [
      "乳腺癌数据集纬度：(569, 30)，阳性样本数：357，阴性样本数：212\n",
      "其中，训练样本数：398，测试样本数：171\n"
     ]
    }
   ],
   "source": [
    "from sklearn.preprocessing import MinMaxScaler\n",
    "from sklearn.datasets import load_breast_cancer\n",
    "from sklearn.model_selection import train_test_split\n",
    "\n",
    "cancer = load_breast_cancer()\n",
    "X = cancer.data\n",
    "y = cancer.target\n",
    "\n",
    "X_train, X_test, y_train, y_test = train_test_split(X, y, test_size=0.3, random_state=1)\n",
    "print '乳腺癌数据集纬度：{}，阳性样本数：{}，阴性样本数：{}'.format(X.shape, y[y == 1].shape[0], y[y == 0].shape[0])\n",
    "print '其中，训练样本数：{}，测试样本数：{}'.format(X_train.shape[0], X_test.shape[0])\n",
    "\n",
    "# 数据预处理\n",
    "scaler = MinMaxScaler()\n",
    "X_train_scaler = scaler.fit_transform(X_train)\n",
    "X_test_scaler = scaler.fit_transform(X_test)"
   ]
  },
  {
   "cell_type": "code",
   "execution_count": null,
   "metadata": {},
   "outputs": [],
   "source": []
  },
  {
   "cell_type": "markdown",
   "metadata": {},
   "source": [
    "## MLPClassifier"
   ]
  },
  {
   "cell_type": "code",
   "execution_count": 26,
   "metadata": {},
   "outputs": [
    {
     "name": "stdout",
     "output_type": "stream",
     "text": [
      "学习未经缩放的特征时打分：0.842105263158，学习经缩放的特征时打分：0.912280701754\n"
     ]
    }
   ],
   "source": [
    "# 1. 观察特征是否缩放对模型的影响\n",
    "from sklearn.neural_network import MLPClassifier\n",
    "\n",
    "# 学习未经缩放的特征\n",
    "clf1 = MLPClassifier()\n",
    "clf1.fit(X_train, y_train)\n",
    "score1 = clf1.score(X_test, y_test)\n",
    "\n",
    "# 学习经缩放的特征\n",
    "clf2 = MLPClassifier()\n",
    "clf2.fit(X_train_scaler, y_train)\n",
    "score2 = clf2.score(X_test_scaler, y_test)\n",
    "\n",
    "print '学习未经缩放的特征时打分：{}，学习经缩放的特征时打分：{}'.format(score1, score2)  # score2 明显大于 score1，说明在 MLP 中，经缩放后的特征训练效果更好\n",
    "# 学习未经缩放的特征时打分：0.865497076023，学习经缩放的特征时打分：0.906432748538"
   ]
  },
  {
   "cell_type": "code",
   "execution_count": 49,
   "metadata": {},
   "outputs": [
    {
     "name": "stdout",
     "output_type": "stream",
     "text": [
      "最优参数: {'activation': 'logistic', 'solver': 'lbfgs', 'learning_rate': 'constant', 'hidden_layer_sizes': 200}，训练集上最优分数: 0.974874371859，测试集上分数：0.830409356725\n"
     ]
    }
   ],
   "source": [
    "# 2. 寻找最优参数\n",
    "from sklearn.model_selection import GridSearchCV\n",
    "\n",
    "param_grid = {'hidden_layer_sizes': [100, 200, 300, 400], 'activation': ['identity', 'logistic', 'tanh', 'relu'], 'solver': ['lbfgs', 'sgd', 'adam'], \n",
    "              'learning_rate': ['constant', 'invscaling', 'adaptive']}\n",
    "clf3 = GridSearchCV(MLPClassifier(), param_grid, cv=5)\n",
    "clf3.fit(X_train_scaler, y_train)\n",
    "score3 = clf3.score(X_test_scaler, y_test)\n",
    "print '最优参数: {}，训练集上最优分数: {}，测试集上分数：{}'.format(clf3.best_params_, clf3.best_score_, score3)\n",
    "# 最优参数: {'activation': 'logistic', 'solver': 'lbfgs', 'learning_rate': 'constant', 'hidden_layer_sizes': 200}，训练集上最优分数: 0.974874371859，测试集上分数：0.830409356725"
   ]
  },
  {
   "cell_type": "code",
   "execution_count": 50,
   "metadata": {},
   "outputs": [
    {
     "data": {
      "image/png": "[encoded data removed]",
      "text/plain": [
       "<matplotlib.figure.Figure at 0x7feca2747e90>"
      ]
     },
     "metadata": {},
     "output_type": "display_data"
    }
   ],
   "source": [
    "# 3. 学习曲线\n",
    "import sys\n",
    "sys.path.append('/home/centos/leon/machine_learning_jupyter')\n",
    "import matplotlib.pyplot as plt\n",
    "from sklearn.model_selection import ShuffleSplit\n",
    "from utils.sklearn_util import plot_learning_curve\n",
    "\n",
    "cv = ShuffleSplit(n_splits=10, test_size=0.2, random_state=0)\n",
    "clf4 = MLPClassifier(hidden_layer_sizes=200, activation='logistic', learning_rate='constant', solver='lbfgs')\n",
    "\n",
    "plot_learning_curve(plt, clf4, 'MLP learning curve', X_train_scaler, y_train, ylim=(0.75, 1.01), cv=cv)\n",
    "plt.show()"
   ]
  },
  {
   "cell_type": "code",
   "execution_count": null,
   "metadata": {
    "collapsed": true
   },
   "outputs": [],
   "source": []
  },
  {
   "cell_type": "markdown",
   "metadata": {},
   "source": [
    "## MLPRegressor"
   ]
  },
  {
   "cell_type": "code",
   "execution_count": 96,
   "metadata": {},
   "outputs": [
    {
     "name": "stdout",
     "output_type": "stream",
     "text": [
      "最优参数: {'activation': 'tanh', 'solver': 'lbfgs', 'learning_rate': 'constant', 'hidden_layer_sizes': 200}，训练集上最优分数: 0.440025183136\n"
     ]
    }
   ],
   "source": [
    "# 拟合正弦曲线\n",
    "import numpy as np\n",
    "from sklearn.neural_network import MLPRegressor\n",
    "\n",
    "# 生成 200 个在 [-2π,2π] 区间的正弦函数上的点，并加入一些随机噪声\n",
    "n_dots = 200\n",
    "X = np.linspace(-2 * np.pi, 2 * np.pi, n_dots)\n",
    "y = np.sin(X) + 0.2 * np.random.rand(n_dots) - 0.1\n",
    "X = X.reshape(-1, 1)\n",
    "\n",
    "# 寻找最优参数\n",
    "param_grid2 = {'hidden_layer_sizes': [100, 200, 300, 400], 'activation': ['identity', 'logistic', 'tanh', 'relu'], 'solver': ['lbfgs', 'sgd', 'adam'], \n",
    "              'learning_rate': ['constant', 'invscaling', 'adaptive']}\n",
    "model = GridSearchCV(MLPRegressor(), param_grid2, cv=10)\n",
    "model.fit(X, y)\n",
    "print '最优参数: {}，训练集上最优分数: {}'.format(model.best_params_, model.best_score_)"
   ]
  },
  {
   "cell_type": "code",
   "execution_count": 97,
   "metadata": {},
   "outputs": [
    {
     "name": "stdout",
     "output_type": "stream",
     "text": [
      "模型评分：0.983364983782\n"
     ]
    },
    {
     "data": {
      "image/png": "[encoded data removed]",
      "text/plain": [
       "<matplotlib.figure.Figure at 0x7feca2943a50>"
      ]
     },
     "metadata": {},
     "output_type": "display_data"
    }
   ],
   "source": [
    "# 训练\n",
    "ml = MLPRegressor(hidden_layer_sizes=400, activation='tanh', solver='lbfgs', learning_rate='constant')\n",
    "ml.fit(X, y)\n",
    "print '模型评分：{}'.format(ml.score(X, y))\n",
    "\n",
    "# 画出曲线\n",
    "plt.scatter(X, y, s=5, c='b', alpha=0.5)\n",
    "plt.plot(X, ml.predict(X), 'r--')\n",
    "plt.show()"
   ]
  },
  {
   "cell_type": "code",
   "execution_count": null,
   "metadata": {
    "collapsed": true
   },
   "outputs": [],
   "source": []
  }
 ],
 "metadata": {
  "kernelspec": {
   "display_name": "Python 2",
   "language": "python",
   "name": "python2"
  },
  "language_info": {
   "codemirror_mode": {
    "name": "ipython",
    "version": 2
   },
   "file_extension": ".py",
   "mimetype": "text/x-python",
   "name": "python",
   "nbconvert_exporter": "python",
   "pygments_lexer": "ipython2",
   "version": "2.7.13"
  }
 },
 "nbformat": 4,
 "nbformat_minor": 2
}
