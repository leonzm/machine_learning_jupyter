{
 "cells": [
  {
   "cell_type": "code",
   "execution_count": null,
   "metadata": {
    "collapsed": true
   },
   "outputs": [],
   "source": [
    "import sys\n",
    "sys.path.append('/home/centos/leon/machine_learning_jupyter')\n",
    "import numpy as np\n",
    "import pandas as pd\n",
    "import matplotlib.pyplot as plt\n",
    "from sklearn import preprocessing\n",
    "from sklearn.metrics import mean_squared_error\n",
    "from sklearn.model_selection import ShuffleSplit\n",
    "from sklearn.model_selection import GridSearchCV\n",
    "from sklearn.ensemble import RandomForestRegressor\n",
    "from sklearn.model_selection import train_test_split\n",
    "from utils.sklearn_util import polynomial_model, plot_learning_curve\n",
    "%matplotlib inline"
   ]
  },
  {
   "cell_type": "code",
   "execution_count": 66,
   "metadata": {},
   "outputs": [
    {
     "name": "stdout",
     "output_type": "stream",
     "text": [
      "(1396, 253)\n"
     ]
    },
    {
     "data": {
      "text/html": [
       "<div>\n",
       "<style>\n",
       "    .dataframe thead tr:only-child th {\n",
       "        text-align: right;\n",
       "    }\n",
       "\n",
       "    .dataframe thead th {\n",
       "        text-align: left;\n",
       "    }\n",
       "\n",
       "    .dataframe tbody tr th {\n",
       "        vertical-align: top;\n",
       "    }\n",
       "</style>\n",
       "<table border=\"1\" class=\"dataframe\">\n",
       "  <thead>\n",
       "    <tr style=\"text-align: right;\">\n",
       "      <th></th>\n",
       "      <th>id</th>\n",
       "      <th>A1</th>\n",
       "      <th>A2</th>\n",
       "      <th>A3</th>\n",
       "      <th>A4</th>\n",
       "      <th>A6</th>\n",
       "      <th>A8</th>\n",
       "      <th>A10</th>\n",
       "      <th>A12</th>\n",
       "      <th>A13</th>\n",
       "      <th>...</th>\n",
       "      <th>B9-endB10-end</th>\n",
       "      <th>B9-start_B11-start</th>\n",
       "      <th>B9-endB11-start</th>\n",
       "      <th>B9-start_B11-end</th>\n",
       "      <th>B9-endB11-end</th>\n",
       "      <th>B10-start_B11-start</th>\n",
       "      <th>B10-endB11-start</th>\n",
       "      <th>B10-start_B11-end</th>\n",
       "      <th>B10-endB11-end</th>\n",
       "      <th>y</th>\n",
       "    </tr>\n",
       "  </thead>\n",
       "  <tbody>\n",
       "    <tr>\n",
       "      <th>0</th>\n",
       "      <td>sample_1528</td>\n",
       "      <td>300</td>\n",
       "      <td>0.0</td>\n",
       "      <td>405.0</td>\n",
       "      <td>700</td>\n",
       "      <td>38.0</td>\n",
       "      <td>0.0</td>\n",
       "      <td>100</td>\n",
       "      <td>102</td>\n",
       "      <td>0.2</td>\n",
       "      <td>...</td>\n",
       "      <td>95400</td>\n",
       "      <td>0</td>\n",
       "      <td>0</td>\n",
       "      <td>0</td>\n",
       "      <td>0</td>\n",
       "      <td>0</td>\n",
       "      <td>0</td>\n",
       "      <td>0</td>\n",
       "      <td>0</td>\n",
       "      <td>0.879</td>\n",
       "    </tr>\n",
       "    <tr>\n",
       "      <th>1</th>\n",
       "      <td>sample_1698</td>\n",
       "      <td>300</td>\n",
       "      <td>0.0</td>\n",
       "      <td>405.0</td>\n",
       "      <td>700</td>\n",
       "      <td>29.0</td>\n",
       "      <td>0.0</td>\n",
       "      <td>101</td>\n",
       "      <td>103</td>\n",
       "      <td>0.2</td>\n",
       "      <td>...</td>\n",
       "      <td>91800</td>\n",
       "      <td>97200</td>\n",
       "      <td>91800</td>\n",
       "      <td>100800</td>\n",
       "      <td>95400</td>\n",
       "      <td>91800</td>\n",
       "      <td>86400</td>\n",
       "      <td>95400</td>\n",
       "      <td>90000</td>\n",
       "      <td>0.902</td>\n",
       "    </tr>\n",
       "    <tr>\n",
       "      <th>2</th>\n",
       "      <td>sample_639</td>\n",
       "      <td>300</td>\n",
       "      <td>0.0</td>\n",
       "      <td>405.0</td>\n",
       "      <td>700</td>\n",
       "      <td>29.0</td>\n",
       "      <td>0.0</td>\n",
       "      <td>102</td>\n",
       "      <td>103</td>\n",
       "      <td>0.2</td>\n",
       "      <td>...</td>\n",
       "      <td>91800</td>\n",
       "      <td>97200</td>\n",
       "      <td>91800</td>\n",
       "      <td>100800</td>\n",
       "      <td>95400</td>\n",
       "      <td>91800</td>\n",
       "      <td>86400</td>\n",
       "      <td>95400</td>\n",
       "      <td>90000</td>\n",
       "      <td>0.936</td>\n",
       "    </tr>\n",
       "    <tr>\n",
       "      <th>3</th>\n",
       "      <td>sample_483</td>\n",
       "      <td>300</td>\n",
       "      <td>0.0</td>\n",
       "      <td>405.0</td>\n",
       "      <td>700</td>\n",
       "      <td>38.0</td>\n",
       "      <td>0.0</td>\n",
       "      <td>100</td>\n",
       "      <td>102</td>\n",
       "      <td>0.2</td>\n",
       "      <td>...</td>\n",
       "      <td>95400</td>\n",
       "      <td>0</td>\n",
       "      <td>0</td>\n",
       "      <td>0</td>\n",
       "      <td>0</td>\n",
       "      <td>0</td>\n",
       "      <td>0</td>\n",
       "      <td>0</td>\n",
       "      <td>0</td>\n",
       "      <td>0.902</td>\n",
       "    </tr>\n",
       "    <tr>\n",
       "      <th>4</th>\n",
       "      <td>sample_617</td>\n",
       "      <td>300</td>\n",
       "      <td>0.0</td>\n",
       "      <td>405.0</td>\n",
       "      <td>700</td>\n",
       "      <td>29.0</td>\n",
       "      <td>0.0</td>\n",
       "      <td>101</td>\n",
       "      <td>103</td>\n",
       "      <td>0.2</td>\n",
       "      <td>...</td>\n",
       "      <td>91800</td>\n",
       "      <td>97200</td>\n",
       "      <td>91800</td>\n",
       "      <td>100800</td>\n",
       "      <td>95400</td>\n",
       "      <td>91800</td>\n",
       "      <td>86400</td>\n",
       "      <td>95400</td>\n",
       "      <td>90000</td>\n",
       "      <td>0.983</td>\n",
       "    </tr>\n",
       "  </tbody>\n",
       "</table>\n",
       "<p>5 rows × 253 columns</p>\n",
       "</div>"
      ],
      "text/plain": [
       "            id   A1   A2     A3   A4    A6   A8  A10  A12  A13  ...    \\\n",
       "0  sample_1528  300  0.0  405.0  700  38.0  0.0  100  102  0.2  ...     \n",
       "1  sample_1698  300  0.0  405.0  700  29.0  0.0  101  103  0.2  ...     \n",
       "2   sample_639  300  0.0  405.0  700  29.0  0.0  102  103  0.2  ...     \n",
       "3   sample_483  300  0.0  405.0  700  38.0  0.0  100  102  0.2  ...     \n",
       "4   sample_617  300  0.0  405.0  700  29.0  0.0  101  103  0.2  ...     \n",
       "\n",
       "   B9-endB10-end  B9-start_B11-start  B9-endB11-start  B9-start_B11-end  \\\n",
       "0          95400                   0                0                 0   \n",
       "1          91800               97200            91800            100800   \n",
       "2          91800               97200            91800            100800   \n",
       "3          95400                   0                0                 0   \n",
       "4          91800               97200            91800            100800   \n",
       "\n",
       "   B9-endB11-end  B10-start_B11-start  B10-endB11-start  B10-start_B11-end  \\\n",
       "0              0                    0                 0                  0   \n",
       "1          95400                91800             86400              95400   \n",
       "2          95400                91800             86400              95400   \n",
       "3              0                    0                 0                  0   \n",
       "4          95400                91800             86400              95400   \n",
       "\n",
       "   B10-endB11-end      y  \n",
       "0               0  0.879  \n",
       "1           90000  0.902  \n",
       "2           90000  0.936  \n",
       "3               0  0.902  \n",
       "4           90000  0.983  \n",
       "\n",
       "[5 rows x 253 columns]"
      ]
     },
     "execution_count": 66,
     "metadata": {},
     "output_type": "execute_result"
    }
   ],
   "source": [
    "df_train_sample = pd.read_csv('/home/centos/leon/machine_learning_jupyter/dataset/jinnan_round1_train_20181227_preprocess.csv')\n",
    "print(df_train_sample.shape)\n",
    "df_train_sample.head()"
   ]
  },
  {
   "cell_type": "code",
   "execution_count": 74,
   "metadata": {},
   "outputs": [
    {
     "name": "stdout",
     "output_type": "stream",
     "text": [
      "变量维度：(1396, 251)\n"
     ]
    }
   ],
   "source": [
    "X = df_train_sample.iloc[:, 1:-1].values\n",
    "scaler = preprocessing.StandardScaler().fit(X)\n",
    "X = scaler.transform(X)\n",
    "y = df_train_sample.iloc[:, -1].values\n",
    "X_train, X_test, y_train, y_test = train_test_split(X, y, test_size=0.2)\n",
    "print('变量维度：{}'.format(X.shape))"
   ]
  },
  {
   "cell_type": "code",
   "execution_count": 75,
   "metadata": {},
   "outputs": [
    {
     "name": "stdout",
     "output_type": "stream",
     "text": [
      "train mse: 0.000113257677283, test mse: 0.00023857920618\n",
      "train score: 0.884600341068, test score: 0.715120802023\n"
     ]
    }
   ],
   "source": [
    "# 先试一下\n",
    "rf = RandomForestRegressor()\n",
    "rf.fit(X_train, y_train)\n",
    "print('train mse: {}, test mse: {}'.format(mean_squared_error(y_train, rf.predict(X_train)), \n",
    "                                           mean_squared_error(y_test, rf.predict(X_test))))\n",
    "print('train score: {}, test score: {}'.format(rf.score(X_train, y_train), rf.score(X_test, y_test)))"
   ]
  },
  {
   "cell_type": "markdown",
   "metadata": {},
   "source": [
    "###### 寻找最优参数"
   ]
  },
  {
   "cell_type": "code",
   "execution_count": null,
   "metadata": {
    "collapsed": true
   },
   "outputs": [],
   "source": [
    "param_grid = {'n_estimators': [10, 50, 100, 200, 500, 1000], \n",
    "              'max_depth': [None, 5, 10, 20], \n",
    "              'min_samples_split': [2, 4, 6, 8, 10]}\n",
    "gs_rf = GridSearchCV(RandomForestRegressor(), param_grid, cv=5)\n",
    "gs_rf.fit(X, y)\n",
    "print('best param: {}; best score: {}'.format(gs_rf.best_params_, gs_rf.best_score_))\n",
    "# best param: {'min_samples_split': 8, 'n_estimators': 200, 'max_depth': 20}; best score: 0.684358309047"
   ]
  },
  {
   "cell_type": "markdown",
   "metadata": {},
   "source": [
    "###### 学习曲线"
   ]
  },
  {
   "cell_type": "code",
   "execution_count": 76,
   "metadata": {},
   "outputs": [
    {
     "data": {
      "image/png": "[encoded data removed]",
      "text/plain": [
       "<matplotlib.figure.Figure at 0x7fad27e865d0>"
      ]
     },
     "metadata": {},
     "output_type": "display_data"
    }
   ],
   "source": [
    "# 使用最优参数\n",
    "rf2 = RandomForestRegressor(n_estimators=200, \n",
    "                            max_depth=20, \n",
    "                            min_samples_split=8)\n",
    "cv = ShuffleSplit(n_splits=10, test_size=0.2, random_state=0)\n",
    "plot_learning_curve(plt, rf2, 'Learning Curves', \n",
    "                    X, y, ylim=(0.01, 1.01), cv=cv)\n",
    "plt.show()"
   ]
  },
  {
   "cell_type": "markdown",
   "metadata": {
    "collapsed": true
   },
   "source": [
    "#### 预测"
   ]
  },
  {
   "cell_type": "code",
   "execution_count": 59,
   "metadata": {},
   "outputs": [
    {
     "name": "stdout",
     "output_type": "stream",
     "text": [
      "(150, 252)\n"
     ]
    },
    {
     "data": {
      "text/html": [
       "<div>\n",
       "<style>\n",
       "    .dataframe thead tr:only-child th {\n",
       "        text-align: right;\n",
       "    }\n",
       "\n",
       "    .dataframe thead th {\n",
       "        text-align: left;\n",
       "    }\n",
       "\n",
       "    .dataframe tbody tr th {\n",
       "        vertical-align: top;\n",
       "    }\n",
       "</style>\n",
       "<table border=\"1\" class=\"dataframe\">\n",
       "  <thead>\n",
       "    <tr style=\"text-align: right;\">\n",
       "      <th></th>\n",
       "      <th>id</th>\n",
       "      <th>A1</th>\n",
       "      <th>A2</th>\n",
       "      <th>A3</th>\n",
       "      <th>A4</th>\n",
       "      <th>A6</th>\n",
       "      <th>A8</th>\n",
       "      <th>A10</th>\n",
       "      <th>A12</th>\n",
       "      <th>A13</th>\n",
       "      <th>...</th>\n",
       "      <th>B9-start_B10-end</th>\n",
       "      <th>B9-endB10-end</th>\n",
       "      <th>B9-start_B11-start</th>\n",
       "      <th>B9-endB11-start</th>\n",
       "      <th>B9-start_B11-end</th>\n",
       "      <th>B9-endB11-end</th>\n",
       "      <th>B10-start_B11-start</th>\n",
       "      <th>B10-endB11-start</th>\n",
       "      <th>B10-start_B11-end</th>\n",
       "      <th>B10-endB11-end</th>\n",
       "    </tr>\n",
       "  </thead>\n",
       "  <tbody>\n",
       "    <tr>\n",
       "      <th>0</th>\n",
       "      <td>sample_1656</td>\n",
       "      <td>300</td>\n",
       "      <td>0.0</td>\n",
       "      <td>405.0</td>\n",
       "      <td>700</td>\n",
       "      <td>29</td>\n",
       "      <td>0.0</td>\n",
       "      <td>101</td>\n",
       "      <td>103.0</td>\n",
       "      <td>0.2</td>\n",
       "      <td>...</td>\n",
       "      <td>97200</td>\n",
       "      <td>91800</td>\n",
       "      <td>97200</td>\n",
       "      <td>91800</td>\n",
       "      <td>100800</td>\n",
       "      <td>95400</td>\n",
       "      <td>91800</td>\n",
       "      <td>86400</td>\n",
       "      <td>95400</td>\n",
       "      <td>90000</td>\n",
       "    </tr>\n",
       "    <tr>\n",
       "      <th>1</th>\n",
       "      <td>sample_1548</td>\n",
       "      <td>300</td>\n",
       "      <td>0.0</td>\n",
       "      <td>405.0</td>\n",
       "      <td>700</td>\n",
       "      <td>39</td>\n",
       "      <td>80.0</td>\n",
       "      <td>100</td>\n",
       "      <td>102.0</td>\n",
       "      <td>0.2</td>\n",
       "      <td>...</td>\n",
       "      <td>99000</td>\n",
       "      <td>95400</td>\n",
       "      <td>0</td>\n",
       "      <td>0</td>\n",
       "      <td>0</td>\n",
       "      <td>0</td>\n",
       "      <td>0</td>\n",
       "      <td>0</td>\n",
       "      <td>0</td>\n",
       "      <td>0</td>\n",
       "    </tr>\n",
       "    <tr>\n",
       "      <th>2</th>\n",
       "      <td>sample_769</td>\n",
       "      <td>300</td>\n",
       "      <td>0.0</td>\n",
       "      <td>405.0</td>\n",
       "      <td>700</td>\n",
       "      <td>80</td>\n",
       "      <td>0.0</td>\n",
       "      <td>102</td>\n",
       "      <td>104.0</td>\n",
       "      <td>0.2</td>\n",
       "      <td>...</td>\n",
       "      <td>0</td>\n",
       "      <td>0</td>\n",
       "      <td>0</td>\n",
       "      <td>0</td>\n",
       "      <td>0</td>\n",
       "      <td>0</td>\n",
       "      <td>0</td>\n",
       "      <td>0</td>\n",
       "      <td>0</td>\n",
       "      <td>0</td>\n",
       "    </tr>\n",
       "    <tr>\n",
       "      <th>3</th>\n",
       "      <td>sample_1881</td>\n",
       "      <td>300</td>\n",
       "      <td>0.0</td>\n",
       "      <td>405.0</td>\n",
       "      <td>700</td>\n",
       "      <td>29</td>\n",
       "      <td>0.0</td>\n",
       "      <td>102</td>\n",
       "      <td>103.0</td>\n",
       "      <td>0.2</td>\n",
       "      <td>...</td>\n",
       "      <td>97200</td>\n",
       "      <td>91800</td>\n",
       "      <td>97200</td>\n",
       "      <td>91800</td>\n",
       "      <td>100800</td>\n",
       "      <td>95400</td>\n",
       "      <td>91800</td>\n",
       "      <td>86400</td>\n",
       "      <td>95400</td>\n",
       "      <td>90000</td>\n",
       "    </tr>\n",
       "    <tr>\n",
       "      <th>4</th>\n",
       "      <td>sample_1807</td>\n",
       "      <td>300</td>\n",
       "      <td>0.0</td>\n",
       "      <td>405.0</td>\n",
       "      <td>700</td>\n",
       "      <td>30</td>\n",
       "      <td>0.0</td>\n",
       "      <td>101</td>\n",
       "      <td>104.0</td>\n",
       "      <td>0.2</td>\n",
       "      <td>...</td>\n",
       "      <td>97200</td>\n",
       "      <td>91800</td>\n",
       "      <td>97200</td>\n",
       "      <td>91800</td>\n",
       "      <td>100800</td>\n",
       "      <td>95400</td>\n",
       "      <td>91800</td>\n",
       "      <td>86400</td>\n",
       "      <td>95400</td>\n",
       "      <td>90000</td>\n",
       "    </tr>\n",
       "  </tbody>\n",
       "</table>\n",
       "<p>5 rows × 252 columns</p>\n",
       "</div>"
      ],
      "text/plain": [
       "            id   A1   A2     A3   A4  A6    A8  A10    A12  A13  \\\n",
       "0  sample_1656  300  0.0  405.0  700  29   0.0  101  103.0  0.2   \n",
       "1  sample_1548  300  0.0  405.0  700  39  80.0  100  102.0  0.2   \n",
       "2   sample_769  300  0.0  405.0  700  80   0.0  102  104.0  0.2   \n",
       "3  sample_1881  300  0.0  405.0  700  29   0.0  102  103.0  0.2   \n",
       "4  sample_1807  300  0.0  405.0  700  30   0.0  101  104.0  0.2   \n",
       "\n",
       "        ...        B9-start_B10-end  B9-endB10-end  B9-start_B11-start  \\\n",
       "0       ...                   97200          91800               97200   \n",
       "1       ...                   99000          95400                   0   \n",
       "2       ...                       0              0                   0   \n",
       "3       ...                   97200          91800               97200   \n",
       "4       ...                   97200          91800               97200   \n",
       "\n",
       "   B9-endB11-start  B9-start_B11-end  B9-endB11-end  B10-start_B11-start  \\\n",
       "0            91800            100800          95400                91800   \n",
       "1                0                 0              0                    0   \n",
       "2                0                 0              0                    0   \n",
       "3            91800            100800          95400                91800   \n",
       "4            91800            100800          95400                91800   \n",
       "\n",
       "   B10-endB11-start  B10-start_B11-end  B10-endB11-end  \n",
       "0             86400              95400           90000  \n",
       "1                 0                  0               0  \n",
       "2                 0                  0               0  \n",
       "3             86400              95400           90000  \n",
       "4             86400              95400           90000  \n",
       "\n",
       "[5 rows x 252 columns]"
      ]
     },
     "execution_count": 59,
     "metadata": {},
     "output_type": "execute_result"
    }
   ],
   "source": [
    "df_test_sample = pd.read_csv('/home/centos/leon/machine_learning_jupyter/dataset/jinnan_round1_testA_20181227_preprocess.csv')\n",
    "print(df_test_sample.shape)\n",
    "df_test_sample.head()"
   ]
  },
  {
   "cell_type": "code",
   "execution_count": 78,
   "metadata": {
    "collapsed": true
   },
   "outputs": [],
   "source": [
    "rf_best = RandomForestRegressor(n_estimators=200, \n",
    "                                max_depth=20, \n",
    "                                min_samples_split=8)\n",
    "rf_best.fit(X, y)\n",
    "out_y = rf_best.predict(scaler.transform(df_test_sample.iloc[:, 1:].values))"
   ]
  },
  {
   "cell_type": "code",
   "execution_count": 89,
   "metadata": {},
   "outputs": [
    {
     "name": "stdout",
     "output_type": "stream",
     "text": [
      "(150, 2)\n"
     ]
    },
    {
     "data": {
      "text/html": [
       "<div>\n",
       "<style>\n",
       "    .dataframe thead tr:only-child th {\n",
       "        text-align: right;\n",
       "    }\n",
       "\n",
       "    .dataframe thead th {\n",
       "        text-align: left;\n",
       "    }\n",
       "\n",
       "    .dataframe tbody tr th {\n",
       "        vertical-align: top;\n",
       "    }\n",
       "</style>\n",
       "<table border=\"1\" class=\"dataframe\">\n",
       "  <thead>\n",
       "    <tr style=\"text-align: right;\">\n",
       "      <th></th>\n",
       "      <th>id</th>\n",
       "      <th>y</th>\n",
       "    </tr>\n",
       "  </thead>\n",
       "  <tbody>\n",
       "    <tr>\n",
       "      <th>0</th>\n",
       "      <td>sample_1656</td>\n",
       "      <td>0.918</td>\n",
       "    </tr>\n",
       "    <tr>\n",
       "      <th>1</th>\n",
       "      <td>sample_1548</td>\n",
       "      <td>0.878</td>\n",
       "    </tr>\n",
       "    <tr>\n",
       "      <th>2</th>\n",
       "      <td>sample_769</td>\n",
       "      <td>0.937</td>\n",
       "    </tr>\n",
       "    <tr>\n",
       "      <th>3</th>\n",
       "      <td>sample_1881</td>\n",
       "      <td>0.913</td>\n",
       "    </tr>\n",
       "    <tr>\n",
       "      <th>4</th>\n",
       "      <td>sample_1807</td>\n",
       "      <td>0.913</td>\n",
       "    </tr>\n",
       "  </tbody>\n",
       "</table>\n",
       "</div>"
      ],
      "text/plain": [
       "            id      y\n",
       "0  sample_1656  0.918\n",
       "1  sample_1548  0.878\n",
       "2   sample_769  0.937\n",
       "3  sample_1881  0.913\n",
       "4  sample_1807  0.913"
      ]
     },
     "execution_count": 89,
     "metadata": {},
     "output_type": "execute_result"
    }
   ],
   "source": [
    "df_submit = pd.DataFrame(data={'id': df_test_sample['id'].values.tolist(), 'y': [round(y, 3) for y in out_y.tolist()]}, \n",
    "                         columns=['id', 'y'])\n",
    "print(df_submit.shape)\n",
    "df_submit.head()"
   ]
  },
  {
   "cell_type": "code",
   "execution_count": 90,
   "metadata": {
    "collapsed": true
   },
   "outputs": [],
   "source": [
    "df_submit.to_csv('/home/centos/leon/machine_learning_jupyter/dataset/jinnan_round1_testA_20181227_submit_20190106.csv', \n",
    "                 index=False, header=False)"
   ]
  },
  {
   "cell_type": "code",
   "execution_count": null,
   "metadata": {},
   "outputs": [],
   "source": []
  },
  {
   "cell_type": "code",
   "execution_count": null,
   "metadata": {},
   "outputs": [],
   "source": []
  },
  {
   "cell_type": "code",
   "execution_count": null,
   "metadata": {
    "collapsed": true
   },
   "outputs": [],
   "source": []
  },
  {
   "cell_type": "code",
   "execution_count": null,
   "metadata": {
    "collapsed": true
   },
   "outputs": [],
   "source": []
  },
  {
   "cell_type": "code",
   "execution_count": null,
   "metadata": {
    "collapsed": true
   },
   "outputs": [],
   "source": []
  }
 ],
 "metadata": {
  "kernelspec": {
   "display_name": "Python 2",
   "language": "python",
   "name": "python2"
  },
  "language_info": {
   "codemirror_mode": {
    "name": "ipython",
    "version": 2
   },
   "file_extension": ".py",
   "mimetype": "text/x-python",
   "name": "python",
   "nbconvert_exporter": "python",
   "pygments_lexer": "ipython2",
   "version": "2.7.13"
  }
 },
 "nbformat": 4,
 "nbformat_minor": 2
}
