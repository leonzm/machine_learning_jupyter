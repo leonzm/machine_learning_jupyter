{
 "cells": [
  {
   "cell_type": "code",
   "execution_count": 2,
   "metadata": {},
   "outputs": [],
   "source": [
    "import sys\n",
    "sys.path.append('/home/centos/leon/machine_learning_jupyter')\n",
    "import numpy as np\n",
    "import pandas as pd\n",
    "import xgboost as xgb\n",
    "import matplotlib.pyplot as plt\n",
    "from sklearn import preprocessing\n",
    "from sklearn.metrics import mean_squared_error\n",
    "from sklearn.model_selection import ShuffleSplit\n",
    "from sklearn.model_selection import GridSearchCV\n",
    "from sklearn.model_selection import train_test_split\n",
    "from utils.sklearn_util import polynomial_model, plot_learning_curve\n",
    "%matplotlib inline"
   ]
  },
  {
   "cell_type": "code",
   "execution_count": 3,
   "metadata": {},
   "outputs": [
    {
     "name": "stdout",
     "output_type": "stream",
     "text": [
      "(1396, 259)\n"
     ]
    },
    {
     "data": {
      "text/html": [
       "<div>\n",
       "<style>\n",
       "    .dataframe thead tr:only-child th {\n",
       "        text-align: right;\n",
       "    }\n",
       "\n",
       "    .dataframe thead th {\n",
       "        text-align: left;\n",
       "    }\n",
       "\n",
       "    .dataframe tbody tr th {\n",
       "        vertical-align: top;\n",
       "    }\n",
       "</style>\n",
       "<table border=\"1\" class=\"dataframe\">\n",
       "  <thead>\n",
       "    <tr style=\"text-align: right;\">\n",
       "      <th></th>\n",
       "      <th>id</th>\n",
       "      <th>A1</th>\n",
       "      <th>A2</th>\n",
       "      <th>A3</th>\n",
       "      <th>A4</th>\n",
       "      <th>A6</th>\n",
       "      <th>A8</th>\n",
       "      <th>A10</th>\n",
       "      <th>A12</th>\n",
       "      <th>A13</th>\n",
       "      <th>...</th>\n",
       "      <th>B10-endB11-start</th>\n",
       "      <th>B10-start_B11-end</th>\n",
       "      <th>B10-end_B11-end</th>\n",
       "      <th>A20</th>\n",
       "      <th>A28</th>\n",
       "      <th>B10</th>\n",
       "      <th>B11</th>\n",
       "      <th>B4</th>\n",
       "      <th>B9</th>\n",
       "      <th>y</th>\n",
       "    </tr>\n",
       "  </thead>\n",
       "  <tbody>\n",
       "    <tr>\n",
       "      <th>0</th>\n",
       "      <td>sample_1528</td>\n",
       "      <td>300</td>\n",
       "      <td>0.0</td>\n",
       "      <td>405.0</td>\n",
       "      <td>700</td>\n",
       "      <td>38.0</td>\n",
       "      <td>0.0</td>\n",
       "      <td>100</td>\n",
       "      <td>102</td>\n",
       "      <td>0.2</td>\n",
       "      <td>...</td>\n",
       "      <td>0</td>\n",
       "      <td>0</td>\n",
       "      <td>0</td>\n",
       "      <td>1800</td>\n",
       "      <td>1800</td>\n",
       "      <td>5400</td>\n",
       "      <td>0</td>\n",
       "      <td>3600</td>\n",
       "      <td>5400</td>\n",
       "      <td>0.879</td>\n",
       "    </tr>\n",
       "    <tr>\n",
       "      <th>1</th>\n",
       "      <td>sample_1698</td>\n",
       "      <td>300</td>\n",
       "      <td>0.0</td>\n",
       "      <td>405.0</td>\n",
       "      <td>700</td>\n",
       "      <td>29.0</td>\n",
       "      <td>0.0</td>\n",
       "      <td>101</td>\n",
       "      <td>103</td>\n",
       "      <td>0.2</td>\n",
       "      <td>...</td>\n",
       "      <td>86400</td>\n",
       "      <td>95400</td>\n",
       "      <td>90000</td>\n",
       "      <td>3600</td>\n",
       "      <td>3600</td>\n",
       "      <td>5400</td>\n",
       "      <td>3600</td>\n",
       "      <td>3600</td>\n",
       "      <td>5400</td>\n",
       "      <td>0.902</td>\n",
       "    </tr>\n",
       "    <tr>\n",
       "      <th>2</th>\n",
       "      <td>sample_639</td>\n",
       "      <td>300</td>\n",
       "      <td>0.0</td>\n",
       "      <td>405.0</td>\n",
       "      <td>700</td>\n",
       "      <td>29.0</td>\n",
       "      <td>0.0</td>\n",
       "      <td>102</td>\n",
       "      <td>103</td>\n",
       "      <td>0.2</td>\n",
       "      <td>...</td>\n",
       "      <td>86400</td>\n",
       "      <td>95400</td>\n",
       "      <td>90000</td>\n",
       "      <td>1800</td>\n",
       "      <td>3600</td>\n",
       "      <td>5400</td>\n",
       "      <td>3600</td>\n",
       "      <td>3600</td>\n",
       "      <td>5400</td>\n",
       "      <td>0.936</td>\n",
       "    </tr>\n",
       "    <tr>\n",
       "      <th>3</th>\n",
       "      <td>sample_483</td>\n",
       "      <td>300</td>\n",
       "      <td>0.0</td>\n",
       "      <td>405.0</td>\n",
       "      <td>700</td>\n",
       "      <td>38.0</td>\n",
       "      <td>0.0</td>\n",
       "      <td>100</td>\n",
       "      <td>102</td>\n",
       "      <td>0.2</td>\n",
       "      <td>...</td>\n",
       "      <td>0</td>\n",
       "      <td>0</td>\n",
       "      <td>0</td>\n",
       "      <td>1800</td>\n",
       "      <td>3600</td>\n",
       "      <td>5400</td>\n",
       "      <td>0</td>\n",
       "      <td>3600</td>\n",
       "      <td>5400</td>\n",
       "      <td>0.902</td>\n",
       "    </tr>\n",
       "    <tr>\n",
       "      <th>4</th>\n",
       "      <td>sample_617</td>\n",
       "      <td>300</td>\n",
       "      <td>0.0</td>\n",
       "      <td>405.0</td>\n",
       "      <td>700</td>\n",
       "      <td>29.0</td>\n",
       "      <td>0.0</td>\n",
       "      <td>101</td>\n",
       "      <td>103</td>\n",
       "      <td>0.2</td>\n",
       "      <td>...</td>\n",
       "      <td>86400</td>\n",
       "      <td>95400</td>\n",
       "      <td>90000</td>\n",
       "      <td>3600</td>\n",
       "      <td>3600</td>\n",
       "      <td>5400</td>\n",
       "      <td>3600</td>\n",
       "      <td>3600</td>\n",
       "      <td>5400</td>\n",
       "      <td>0.983</td>\n",
       "    </tr>\n",
       "  </tbody>\n",
       "</table>\n",
       "<p>5 rows × 259 columns</p>\n",
       "</div>"
      ],
      "text/plain": [
       "            id   A1   A2     A3   A4    A6   A8  A10  A12  A13  ...    \\\n",
       "0  sample_1528  300  0.0  405.0  700  38.0  0.0  100  102  0.2  ...     \n",
       "1  sample_1698  300  0.0  405.0  700  29.0  0.0  101  103  0.2  ...     \n",
       "2   sample_639  300  0.0  405.0  700  29.0  0.0  102  103  0.2  ...     \n",
       "3   sample_483  300  0.0  405.0  700  38.0  0.0  100  102  0.2  ...     \n",
       "4   sample_617  300  0.0  405.0  700  29.0  0.0  101  103  0.2  ...     \n",
       "\n",
       "   B10-endB11-start  B10-start_B11-end  B10-end_B11-end   A20   A28   B10  \\\n",
       "0                 0                  0                0  1800  1800  5400   \n",
       "1             86400              95400            90000  3600  3600  5400   \n",
       "2             86400              95400            90000  1800  3600  5400   \n",
       "3                 0                  0                0  1800  3600  5400   \n",
       "4             86400              95400            90000  3600  3600  5400   \n",
       "\n",
       "    B11    B4    B9      y  \n",
       "0     0  3600  5400  0.879  \n",
       "1  3600  3600  5400  0.902  \n",
       "2  3600  3600  5400  0.936  \n",
       "3     0  3600  5400  0.902  \n",
       "4  3600  3600  5400  0.983  \n",
       "\n",
       "[5 rows x 259 columns]"
      ]
     },
     "execution_count": 3,
     "metadata": {},
     "output_type": "execute_result"
    }
   ],
   "source": [
    "df_train_sample = pd.read_csv('/home/centos/leon/machine_learning_jupyter/dataset/jinnan_round1_train_20181227_preprocess_20190108.csv')\n",
    "print(df_train_sample.shape)\n",
    "df_train_sample.head()"
   ]
  },
  {
   "cell_type": "code",
   "execution_count": 41,
   "metadata": {},
   "outputs": [
    {
     "name": "stdout",
     "output_type": "stream",
     "text": [
      "变量维度：(1396, 257)\n"
     ]
    }
   ],
   "source": [
    "X = df_train_sample.iloc[:, 1:-1].values\n",
    "scaler = preprocessing.StandardScaler().fit(X)\n",
    "X = scaler.transform(X)\n",
    "y = df_train_sample.iloc[:, -1].values\n",
    "X_train, X_test, y_train, y_test = train_test_split(X, y, test_size=0.2)\n",
    "print('变量维度：{}'.format(X.shape))"
   ]
  },
  {
   "cell_type": "code",
   "execution_count": 45,
   "metadata": {},
   "outputs": [
    {
     "name": "stdout",
     "output_type": "stream",
     "text": [
      "train mse: 6.94937897293e-05, test mse: 0.000382909492428\n",
      "train score: 0.925443554686, test score: 0.630061823499\n"
     ]
    }
   ],
   "source": [
    "# 先试一下\n",
    "rg = xgb.XGBRegressor(n_estimators=1000, \n",
    "                      max_depth=6)\n",
    "rg.fit(X_train, y_train)\n",
    "print('train mse: {}, test mse: {}'.format(mean_squared_error(y_train, rg.predict(X_train)), \n",
    "                                           mean_squared_error(y_test, rg.predict(X_test))))\n",
    "print('train score: {}, test score: {}'.format(rg.score(X_train, y_train), rg.score(X_test, y_test)))"
   ]
  },
  {
   "cell_type": "code",
   "execution_count": 27,
   "metadata": {},
   "outputs": [
    {
     "data": {
      "text/plain": [
       "XGBRegressor(base_score=0.5, colsample_bylevel=1, colsample_bytree=1, gamma=0,\n",
       "       learning_rate=0.1, max_delta_step=0, max_depth=6,\n",
       "       min_child_weight=1, missing=None, n_estimators=100, nthread=-1,\n",
       "       objective='reg:linear', reg_alpha=0, reg_lambda=1,\n",
       "       scale_pos_weight=1, seed=0, silent=True, subsample=1)"
      ]
     },
     "execution_count": 27,
     "metadata": {},
     "output_type": "execute_result"
    }
   ],
   "source": [
    "rg"
   ]
  },
  {
   "cell_type": "markdown",
   "metadata": {},
   "source": [
    "###### 寻找最优参数"
   ]
  },
  {
   "cell_type": "code",
   "execution_count": 25,
   "metadata": {},
   "outputs": [
    {
     "name": "stdout",
     "output_type": "stream",
     "text": [
      "best param: {'n_estimators': 100, 'max_depth': 6}; best score: 0.666652581732\n"
     ]
    }
   ],
   "source": [
    "param_grid = {'n_estimators': [100, 200, 300, 500, 1000], \n",
    "              'max_depth': [2, 4, 6, 8, 10]}\n",
    "gs_rf = GridSearchCV(xgb.XGBRegressor(), param_grid, cv=5)\n",
    "gs_rf.fit(X, y)\n",
    "print('best param: {}; best score: {}'.format(gs_rf.best_params_, gs_rf.best_score_))\n",
    "# best param: {'n_estimators': 100, 'max_depth': 6}; best score: 0.666652581732"
   ]
  },
  {
   "cell_type": "markdown",
   "metadata": {},
   "source": [
    "###### 学习曲线"
   ]
  },
  {
   "cell_type": "code",
   "execution_count": 46,
   "metadata": {},
   "outputs": [
    {
     "data": {
      "image/png": "[encoded data removed]",
      "text/plain": [
       "<matplotlib.figure.Figure at 0x7f2806283d10>"
      ]
     },
     "metadata": {},
     "output_type": "display_data"
    }
   ],
   "source": [
    "# 使用最优参数\n",
    "rf2 = xgb.XGBRegressor(n_estimators=1000,  # 故意使用 1000\n",
    "                   max_depth=6)\n",
    "cv = ShuffleSplit(n_splits=10, test_size=0.2, random_state=0)\n",
    "plot_learning_curve(plt, rf2, 'Learning Curves', \n",
    "                    X, y, ylim=(0.01, 1.01), cv=cv)\n",
    "plt.show()"
   ]
  },
  {
   "cell_type": "code",
   "execution_count": null,
   "metadata": {
    "collapsed": true
   },
   "outputs": [],
   "source": []
  },
  {
   "cell_type": "markdown",
   "metadata": {},
   "source": [
    "#### 预测"
   ]
  },
  {
   "cell_type": "code",
   "execution_count": 49,
   "metadata": {},
   "outputs": [
    {
     "name": "stdout",
     "output_type": "stream",
     "text": [
      "(150, 258)\n"
     ]
    },
    {
     "data": {
      "text/html": [
       "<div>\n",
       "<style>\n",
       "    .dataframe thead tr:only-child th {\n",
       "        text-align: right;\n",
       "    }\n",
       "\n",
       "    .dataframe thead th {\n",
       "        text-align: left;\n",
       "    }\n",
       "\n",
       "    .dataframe tbody tr th {\n",
       "        vertical-align: top;\n",
       "    }\n",
       "</style>\n",
       "<table border=\"1\" class=\"dataframe\">\n",
       "  <thead>\n",
       "    <tr style=\"text-align: right;\">\n",
       "      <th></th>\n",
       "      <th>id</th>\n",
       "      <th>A1</th>\n",
       "      <th>A2</th>\n",
       "      <th>A3</th>\n",
       "      <th>A4</th>\n",
       "      <th>A6</th>\n",
       "      <th>A8</th>\n",
       "      <th>A10</th>\n",
       "      <th>A12</th>\n",
       "      <th>A13</th>\n",
       "      <th>...</th>\n",
       "      <th>B10-start_B11-start</th>\n",
       "      <th>B10-endB11-start</th>\n",
       "      <th>B10-start_B11-end</th>\n",
       "      <th>B10-end_B11-end</th>\n",
       "      <th>A20</th>\n",
       "      <th>A28</th>\n",
       "      <th>B10</th>\n",
       "      <th>B11</th>\n",
       "      <th>B4</th>\n",
       "      <th>B9</th>\n",
       "    </tr>\n",
       "  </thead>\n",
       "  <tbody>\n",
       "    <tr>\n",
       "      <th>0</th>\n",
       "      <td>sample_1656</td>\n",
       "      <td>300</td>\n",
       "      <td>0.0</td>\n",
       "      <td>405.0</td>\n",
       "      <td>700</td>\n",
       "      <td>29</td>\n",
       "      <td>0.0</td>\n",
       "      <td>101</td>\n",
       "      <td>103.0</td>\n",
       "      <td>0.2</td>\n",
       "      <td>...</td>\n",
       "      <td>91800</td>\n",
       "      <td>86400</td>\n",
       "      <td>95400</td>\n",
       "      <td>90000</td>\n",
       "      <td>1800</td>\n",
       "      <td>1800</td>\n",
       "      <td>5400</td>\n",
       "      <td>0</td>\n",
       "      <td>3600</td>\n",
       "      <td>5400</td>\n",
       "    </tr>\n",
       "    <tr>\n",
       "      <th>1</th>\n",
       "      <td>sample_1548</td>\n",
       "      <td>300</td>\n",
       "      <td>0.0</td>\n",
       "      <td>405.0</td>\n",
       "      <td>700</td>\n",
       "      <td>39</td>\n",
       "      <td>80.0</td>\n",
       "      <td>100</td>\n",
       "      <td>102.0</td>\n",
       "      <td>0.2</td>\n",
       "      <td>...</td>\n",
       "      <td>0</td>\n",
       "      <td>0</td>\n",
       "      <td>0</td>\n",
       "      <td>0</td>\n",
       "      <td>3600</td>\n",
       "      <td>3600</td>\n",
       "      <td>5400</td>\n",
       "      <td>3600</td>\n",
       "      <td>3600</td>\n",
       "      <td>5400</td>\n",
       "    </tr>\n",
       "    <tr>\n",
       "      <th>2</th>\n",
       "      <td>sample_769</td>\n",
       "      <td>300</td>\n",
       "      <td>0.0</td>\n",
       "      <td>405.0</td>\n",
       "      <td>700</td>\n",
       "      <td>80</td>\n",
       "      <td>0.0</td>\n",
       "      <td>102</td>\n",
       "      <td>104.0</td>\n",
       "      <td>0.2</td>\n",
       "      <td>...</td>\n",
       "      <td>0</td>\n",
       "      <td>0</td>\n",
       "      <td>0</td>\n",
       "      <td>0</td>\n",
       "      <td>1800</td>\n",
       "      <td>3600</td>\n",
       "      <td>5400</td>\n",
       "      <td>3600</td>\n",
       "      <td>3600</td>\n",
       "      <td>5400</td>\n",
       "    </tr>\n",
       "    <tr>\n",
       "      <th>3</th>\n",
       "      <td>sample_1881</td>\n",
       "      <td>300</td>\n",
       "      <td>0.0</td>\n",
       "      <td>405.0</td>\n",
       "      <td>700</td>\n",
       "      <td>29</td>\n",
       "      <td>0.0</td>\n",
       "      <td>102</td>\n",
       "      <td>103.0</td>\n",
       "      <td>0.2</td>\n",
       "      <td>...</td>\n",
       "      <td>91800</td>\n",
       "      <td>86400</td>\n",
       "      <td>95400</td>\n",
       "      <td>90000</td>\n",
       "      <td>1800</td>\n",
       "      <td>3600</td>\n",
       "      <td>5400</td>\n",
       "      <td>0</td>\n",
       "      <td>3600</td>\n",
       "      <td>5400</td>\n",
       "    </tr>\n",
       "    <tr>\n",
       "      <th>4</th>\n",
       "      <td>sample_1807</td>\n",
       "      <td>300</td>\n",
       "      <td>0.0</td>\n",
       "      <td>405.0</td>\n",
       "      <td>700</td>\n",
       "      <td>30</td>\n",
       "      <td>0.0</td>\n",
       "      <td>101</td>\n",
       "      <td>104.0</td>\n",
       "      <td>0.2</td>\n",
       "      <td>...</td>\n",
       "      <td>91800</td>\n",
       "      <td>86400</td>\n",
       "      <td>95400</td>\n",
       "      <td>90000</td>\n",
       "      <td>3600</td>\n",
       "      <td>3600</td>\n",
       "      <td>5400</td>\n",
       "      <td>3600</td>\n",
       "      <td>3600</td>\n",
       "      <td>5400</td>\n",
       "    </tr>\n",
       "  </tbody>\n",
       "</table>\n",
       "<p>5 rows × 258 columns</p>\n",
       "</div>"
      ],
      "text/plain": [
       "            id   A1   A2     A3   A4  A6    A8  A10    A12  A13  ...   \\\n",
       "0  sample_1656  300  0.0  405.0  700  29   0.0  101  103.0  0.2  ...    \n",
       "1  sample_1548  300  0.0  405.0  700  39  80.0  100  102.0  0.2  ...    \n",
       "2   sample_769  300  0.0  405.0  700  80   0.0  102  104.0  0.2  ...    \n",
       "3  sample_1881  300  0.0  405.0  700  29   0.0  102  103.0  0.2  ...    \n",
       "4  sample_1807  300  0.0  405.0  700  30   0.0  101  104.0  0.2  ...    \n",
       "\n",
       "   B10-start_B11-start  B10-endB11-start  B10-start_B11-end  B10-end_B11-end  \\\n",
       "0                91800             86400              95400            90000   \n",
       "1                    0                 0                  0                0   \n",
       "2                    0                 0                  0                0   \n",
       "3                91800             86400              95400            90000   \n",
       "4                91800             86400              95400            90000   \n",
       "\n",
       "    A20   A28   B10   B11    B4    B9  \n",
       "0  1800  1800  5400     0  3600  5400  \n",
       "1  3600  3600  5400  3600  3600  5400  \n",
       "2  1800  3600  5400  3600  3600  5400  \n",
       "3  1800  3600  5400     0  3600  5400  \n",
       "4  3600  3600  5400  3600  3600  5400  \n",
       "\n",
       "[5 rows x 258 columns]"
      ]
     },
     "execution_count": 49,
     "metadata": {},
     "output_type": "execute_result"
    }
   ],
   "source": [
    "df_test_sample = pd.read_csv('/home/centos/leon/machine_learning_jupyter/dataset/jinnan_round1_testA_20181227_preprocess_20190108.csv')\n",
    "print(df_test_sample.shape)\n",
    "df_test_sample.head()"
   ]
  },
  {
   "cell_type": "code",
   "execution_count": 50,
   "metadata": {},
   "outputs": [],
   "source": [
    "rg_best = xgb.XGBRegressor(n_estimators=1000, max_depth=6)\n",
    "rg_best.fit(X, y)\n",
    "out_y = rg_best.predict(scaler.transform(df_test_sample.iloc[:, 1:].values))"
   ]
  },
  {
   "cell_type": "code",
   "execution_count": 51,
   "metadata": {},
   "outputs": [
    {
     "name": "stdout",
     "output_type": "stream",
     "text": [
      "(150, 2)\n"
     ]
    },
    {
     "data": {
      "text/html": [
       "<div>\n",
       "<style>\n",
       "    .dataframe thead tr:only-child th {\n",
       "        text-align: right;\n",
       "    }\n",
       "\n",
       "    .dataframe thead th {\n",
       "        text-align: left;\n",
       "    }\n",
       "\n",
       "    .dataframe tbody tr th {\n",
       "        vertical-align: top;\n",
       "    }\n",
       "</style>\n",
       "<table border=\"1\" class=\"dataframe\">\n",
       "  <thead>\n",
       "    <tr style=\"text-align: right;\">\n",
       "      <th></th>\n",
       "      <th>id</th>\n",
       "      <th>y</th>\n",
       "    </tr>\n",
       "  </thead>\n",
       "  <tbody>\n",
       "    <tr>\n",
       "      <th>0</th>\n",
       "      <td>sample_1656</td>\n",
       "      <td>0.918</td>\n",
       "    </tr>\n",
       "    <tr>\n",
       "      <th>1</th>\n",
       "      <td>sample_1548</td>\n",
       "      <td>0.883</td>\n",
       "    </tr>\n",
       "    <tr>\n",
       "      <th>2</th>\n",
       "      <td>sample_769</td>\n",
       "      <td>0.932</td>\n",
       "    </tr>\n",
       "    <tr>\n",
       "      <th>3</th>\n",
       "      <td>sample_1881</td>\n",
       "      <td>0.916</td>\n",
       "    </tr>\n",
       "    <tr>\n",
       "      <th>4</th>\n",
       "      <td>sample_1807</td>\n",
       "      <td>0.901</td>\n",
       "    </tr>\n",
       "  </tbody>\n",
       "</table>\n",
       "</div>"
      ],
      "text/plain": [
       "            id      y\n",
       "0  sample_1656  0.918\n",
       "1  sample_1548  0.883\n",
       "2   sample_769  0.932\n",
       "3  sample_1881  0.916\n",
       "4  sample_1807  0.901"
      ]
     },
     "execution_count": 51,
     "metadata": {},
     "output_type": "execute_result"
    }
   ],
   "source": [
    "df_submit = pd.DataFrame(data={'id': df_test_sample['id'].values.tolist(), 'y': [round(y, 3) for y in out_y.tolist()]}, \n",
    "                         columns=['id', 'y'])\n",
    "print(df_submit.shape)\n",
    "df_submit.head()"
   ]
  },
  {
   "cell_type": "code",
   "execution_count": 52,
   "metadata": {
    "collapsed": true
   },
   "outputs": [],
   "source": [
    "df_submit.to_csv('/home/centos/leon/machine_learning_jupyter/dataset/jinnan_round1_testA_20181227_submit_xgboost_20190108.csv', \n",
    "                 index=False, header=False)"
   ]
  },
  {
   "cell_type": "code",
   "execution_count": null,
   "metadata": {
    "collapsed": true
   },
   "outputs": [],
   "source": []
  },
  {
   "cell_type": "code",
   "execution_count": null,
   "metadata": {
    "collapsed": true
   },
   "outputs": [],
   "source": []
  },
  {
   "cell_type": "code",
   "execution_count": null,
   "metadata": {
    "collapsed": true
   },
   "outputs": [],
   "source": []
  },
  {
   "cell_type": "code",
   "execution_count": null,
   "metadata": {
    "collapsed": true
   },
   "outputs": [],
   "source": []
  }
 ],
 "metadata": {
  "kernelspec": {
   "display_name": "Python 2",
   "language": "python",
   "name": "python2"
  },
  "language_info": {
   "codemirror_mode": {
    "name": "ipython",
    "version": 2
   },
   "file_extension": ".py",
   "mimetype": "text/x-python",
   "name": "python",
   "nbconvert_exporter": "python",
   "pygments_lexer": "ipython2",
   "version": "2.7.13"
  }
 },
 "nbformat": 4,
 "nbformat_minor": 2
}
